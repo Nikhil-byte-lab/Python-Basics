{
 "cells": [
  {
   "cell_type": "markdown",
   "id": "6f451412",
   "metadata": {},
   "source": [
    "Operators in Python:\n",
    "    1. Arithmetic Operators\n",
    "    2. Assignment Operators\n",
    "    3. Compilation Operators\n",
    "    4. Logical Operators\n",
    "    5. Identity Operators\n",
    "    6. Membership Operators"
   ]
  },
  {
   "cell_type": "markdown",
   "id": "f732d72f",
   "metadata": {},
   "source": [
    "1. Arithmetic Operators"
   ]
  },
  {
   "cell_type": "code",
   "execution_count": 4,
   "id": "f6bb926e",
   "metadata": {},
   "outputs": [
    {
     "name": "stdout",
     "output_type": "stream",
     "text": [
      "sum =  30\n",
      "difference =  10\n",
      "product =  200\n",
      "quotient =  2.0\n",
      "exponent =  10240000000000\n",
      "remainder =  0\n"
     ]
    }
   ],
   "source": [
    "num_1 = 20\n",
    "num_2 = 10\n",
    "\n",
    "# addition\n",
    "sum = num_1 + num_2\n",
    "print('sum = ', sum)\n",
    "\n",
    "# subtraction\n",
    "diff = num_1 - num_2\n",
    "print('difference = ', diff)\n",
    "\n",
    "# multiplication\n",
    "pro = num_1 * num_2\n",
    "print('product = ', pro)\n",
    "\n",
    "# division\n",
    "quo = num_1 / num_2\n",
    "print('quotient = ', quo)\n",
    "\n",
    "# exponent\n",
    "exp = num_1**num_2 # 20^10\n",
    "print('exponent = ', exp)\n",
    "\n",
    "# modulus\n",
    "mod = num_1 % num_2\n",
    "print('remainder = ', mod)"
   ]
  },
  {
   "cell_type": "markdown",
   "id": "29c700c0",
   "metadata": {},
   "source": [
    "2. Assignment Operators"
   ]
  },
  {
   "cell_type": "raw",
   "id": "9aaa11d0",
   "metadata": {},
   "source": [
    "+=\n",
    "-=\n",
    "*=\n",
    "**=\n",
    "/=\n",
    "%="
   ]
  },
  {
   "cell_type": "code",
   "execution_count": 5,
   "id": "a94a8b88",
   "metadata": {},
   "outputs": [
    {
     "name": "stdout",
     "output_type": "stream",
     "text": [
      "5\n"
     ]
    }
   ],
   "source": [
    "a = 5\n",
    "print(a)"
   ]
  },
  {
   "cell_type": "code",
   "execution_count": 6,
   "id": "cea095c6",
   "metadata": {},
   "outputs": [
    {
     "name": "stdout",
     "output_type": "stream",
     "text": [
      "10\n"
     ]
    }
   ],
   "source": [
    "a = 5 \n",
    "a += 5 # a = a + 5\n",
    "print(a)"
   ]
  },
  {
   "cell_type": "code",
   "execution_count": 7,
   "id": "b786cbaa",
   "metadata": {},
   "outputs": [
    {
     "name": "stdout",
     "output_type": "stream",
     "text": [
      "3\n"
     ]
    }
   ],
   "source": [
    "b = 5\n",
    "b -= 2 # b = b - 2\n",
    "print(b)"
   ]
  },
  {
   "cell_type": "markdown",
   "id": "c01df91a",
   "metadata": {},
   "source": [
    "3. Comparison Operators"
   ]
  },
  {
   "cell_type": "code",
   "execution_count": 10,
   "id": "3ede2ad1",
   "metadata": {},
   "outputs": [
    {
     "name": "stdout",
     "output_type": "stream",
     "text": [
      "False\n",
      "True\n",
      "False\n",
      "True\n",
      "True\n",
      "False\n"
     ]
    }
   ],
   "source": [
    "a = 5\n",
    "b = 10\n",
    "\n",
    "print(a == b) # equal to \n",
    "print(a != b) # not equal to\n",
    "print(a > b) # greater than\n",
    "print(a < b) # less than\n",
    "print(a <= b) # less than or equal to\n",
    "print(a >= b) # greater than or equal to"
   ]
  },
  {
   "cell_type": "markdown",
   "id": "26d21bc6",
   "metadata": {},
   "source": [
    "4. Logical Operators"
   ]
  },
  {
   "cell_type": "markdown",
   "id": "3f86f601",
   "metadata": {},
   "source": [
    "and\n",
    "\n",
    "or\n",
    "\n",
    "not"
   ]
  },
  {
   "cell_type": "code",
   "execution_count": 13,
   "id": "007181ef",
   "metadata": {},
   "outputs": [
    {
     "name": "stdout",
     "output_type": "stream",
     "text": [
      "False\n",
      "True\n",
      "False\n"
     ]
    }
   ],
   "source": [
    "a = 10 \n",
    "\n",
    "print(a>20 and a>5)\n",
    "print(a>20 or a>5)\n",
    "print(not(a>8 and a>5))"
   ]
  },
  {
   "cell_type": "markdown",
   "id": "6e1054c5",
   "metadata": {},
   "source": [
    "5. Identity Operator\n",
    "\n",
    "is\n",
    "\n",
    "is not"
   ]
  },
  {
   "cell_type": "code",
   "execution_count": 14,
   "id": "a2e418bf",
   "metadata": {},
   "outputs": [
    {
     "name": "stdout",
     "output_type": "stream",
     "text": [
      "True\n"
     ]
    }
   ],
   "source": [
    "x = 5\n",
    "y = 5\n",
    "\n",
    "print(x is y)"
   ]
  },
  {
   "cell_type": "code",
   "execution_count": 15,
   "id": "963ef9ee",
   "metadata": {},
   "outputs": [
    {
     "name": "stdout",
     "output_type": "stream",
     "text": [
      "False\n"
     ]
    }
   ],
   "source": [
    "x = 5\n",
    "y = 10\n",
    "\n",
    "print(x is y)"
   ]
  },
  {
   "cell_type": "code",
   "execution_count": 16,
   "id": "431e651f",
   "metadata": {},
   "outputs": [
    {
     "name": "stdout",
     "output_type": "stream",
     "text": [
      "False\n"
     ]
    }
   ],
   "source": [
    "x = 5\n",
    "y = 5\n",
    "\n",
    "print(x is not y)"
   ]
  },
  {
   "cell_type": "code",
   "execution_count": 17,
   "id": "cca8c0a4",
   "metadata": {},
   "outputs": [
    {
     "name": "stdout",
     "output_type": "stream",
     "text": [
      "True\n"
     ]
    }
   ],
   "source": [
    "x = 5\n",
    "y = 10\n",
    "\n",
    "print(x is not y)"
   ]
  },
  {
   "cell_type": "markdown",
   "id": "f38ad459",
   "metadata": {},
   "source": [
    "6. Membership Operator"
   ]
  },
  {
   "cell_type": "markdown",
   "id": "fb063887",
   "metadata": {},
   "source": [
    "in\n",
    "\n",
    "not in"
   ]
  },
  {
   "cell_type": "code",
   "execution_count": 18,
   "id": "af4cca1d",
   "metadata": {},
   "outputs": [
    {
     "name": "stdout",
     "output_type": "stream",
     "text": [
      "True\n",
      "False\n"
     ]
    }
   ],
   "source": [
    "a = 5\n",
    "b = 10\n",
    "\n",
    "c = [1, 2, 3, 4, 5]\n",
    "print(a in c)\n",
    "print(b in c)"
   ]
  },
  {
   "cell_type": "code",
   "execution_count": 19,
   "id": "c6bf0b17",
   "metadata": {},
   "outputs": [
    {
     "name": "stdout",
     "output_type": "stream",
     "text": [
      "False\n",
      "True\n"
     ]
    }
   ],
   "source": [
    "a = 5\n",
    "b = 10\n",
    "\n",
    "c = [1, 2, 3, 4, 5]\n",
    "print(a not in c)\n",
    "print(b not in c)"
   ]
  },
  {
   "cell_type": "code",
   "execution_count": null,
   "id": "9f61a2df",
   "metadata": {},
   "outputs": [],
   "source": []
  }
 ],
 "metadata": {
  "kernelspec": {
   "display_name": "Python 3 (ipykernel)",
   "language": "python",
   "name": "python3"
  },
  "language_info": {
   "codemirror_mode": {
    "name": "ipython",
    "version": 3
   },
   "file_extension": ".py",
   "mimetype": "text/x-python",
   "name": "python",
   "nbconvert_exporter": "python",
   "pygments_lexer": "ipython3",
   "version": "3.9.12"
  }
 },
 "nbformat": 4,
 "nbformat_minor": 5
}
