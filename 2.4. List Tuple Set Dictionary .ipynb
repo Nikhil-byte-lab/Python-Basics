{
 "cells": [
  {
   "cell_type": "markdown",
   "id": "a6526317",
   "metadata": {},
   "source": [
    "Types of Objects in Python:\n",
    "    1. Immutable Objects\n",
    "    2. Mutable Objects\n",
    "    \n",
    "Immutable Objects:\n",
    "    1. int\n",
    "    2. float\n",
    "    3. string\n",
    "    4. bool\n",
    "    5. tuple\n",
    "  \n",
    "Mutable Objects:\n",
    "    1. List\n",
    "    2. Set\n",
    "    3. Dictionary"
   ]
  },
  {
   "cell_type": "markdown",
   "id": "9d360623",
   "metadata": {},
   "source": [
    "List\n"
   ]
  },
  {
   "cell_type": "code",
   "execution_count": 1,
   "id": "7e0b067a",
   "metadata": {},
   "outputs": [
    {
     "name": "stdout",
     "output_type": "stream",
     "text": [
      "[1, 2, 3, 4, 5]\n"
     ]
    },
    {
     "data": {
      "text/plain": [
       "list"
      ]
     },
     "execution_count": 1,
     "metadata": {},
     "output_type": "execute_result"
    }
   ],
   "source": [
    "# list should be included in the square brackets\n",
    "my_list = [1, 2, 3, 4, 5]\n",
    "print(my_list)\n",
    "type(my_list)"
   ]
  },
  {
   "cell_type": "code",
   "execution_count": 2,
   "id": "aaaec37e",
   "metadata": {},
   "outputs": [
    {
     "name": "stdout",
     "output_type": "stream",
     "text": [
      "[2, 3, 1.8, 'English', True]\n"
     ]
    }
   ],
   "source": [
    "# lists can have multiple data types\n",
    "my_list = [2, 3, 1.8, 'English', True]\n",
    "print(my_list)"
   ]
  },
  {
   "cell_type": "markdown",
   "id": "dafce091",
   "metadata": {},
   "source": [
    "Lists are Mutable -> Changable"
   ]
  },
  {
   "cell_type": "code",
   "execution_count": 3,
   "id": "d846fbf0",
   "metadata": {},
   "outputs": [
    {
     "name": "stdout",
     "output_type": "stream",
     "text": [
      "[2, 3, 1.8, 'English', True, 6]\n"
     ]
    }
   ],
   "source": [
    "# add elements to a list\n",
    "my_list = [2, 3, 1.8, 'English', True]\n",
    "my_list.append(6)\n",
    "print(my_list)"
   ]
  },
  {
   "cell_type": "code",
   "execution_count": 4,
   "id": "a0e0b5ad",
   "metadata": {},
   "outputs": [
    {
     "name": "stdout",
     "output_type": "stream",
     "text": [
      "2\n",
      "1.8\n"
     ]
    }
   ],
   "source": [
    "# print elements of a list using their index\n",
    "print(my_list[0])\n",
    "print(my_list[2])"
   ]
  },
  {
   "cell_type": "code",
   "execution_count": 5,
   "id": "5c38b1ef",
   "metadata": {},
   "outputs": [
    {
     "name": "stdout",
     "output_type": "stream",
     "text": [
      "[1, 2, 3, 4, 5, 12, 2, 3]\n"
     ]
    }
   ],
   "source": [
    "# lists allow duplicate values\n",
    "list_1 = [1, 2, 3, 4, 5, 12, 2, 3]\n",
    "print(list_1)"
   ]
  },
  {
   "cell_type": "code",
   "execution_count": 7,
   "id": "d012091a",
   "metadata": {},
   "outputs": [
    {
     "name": "stdout",
     "output_type": "stream",
     "text": [
      "8\n"
     ]
    }
   ],
   "source": [
    "print(len(list_1))"
   ]
  },
  {
   "cell_type": "code",
   "execution_count": 8,
   "id": "dff3cd66",
   "metadata": {},
   "outputs": [
    {
     "name": "stdout",
     "output_type": "stream",
     "text": [
      "[]\n"
     ]
    }
   ],
   "source": [
    "# initiating an empty list\n",
    "list_2 = []\n",
    "print(list_2)"
   ]
  },
  {
   "cell_type": "code",
   "execution_count": 9,
   "id": "11bb0178",
   "metadata": {},
   "outputs": [
    {
     "name": "stdout",
     "output_type": "stream",
     "text": [
      "[5]\n"
     ]
    }
   ],
   "source": [
    "list_2.append(5)\n",
    "print(list_2)"
   ]
  },
  {
   "cell_type": "code",
   "execution_count": 11,
   "id": "decccc17",
   "metadata": {},
   "outputs": [
    {
     "name": "stdout",
     "output_type": "stream",
     "text": [
      "[2, 3, 1.8, 'English', True]\n",
      "[2, 3, 'English', True]\n"
     ]
    }
   ],
   "source": [
    "# delete an item in a list\n",
    "list_2 = [2, 3, 1.8, 'English', True]\n",
    "print(list(list_2))\n",
    "\n",
    "del list_2[2]\n",
    "print(list_2)"
   ]
  },
  {
   "cell_type": "code",
   "execution_count": 12,
   "id": "a505270f",
   "metadata": {},
   "outputs": [
    {
     "name": "stdout",
     "output_type": "stream",
     "text": [
      "[1, 2, 3, 4, 5, 6, 7, 8, 9, 10]\n"
     ]
    }
   ],
   "source": [
    "# join two lists\n",
    "list_3 = [1, 2, 3, 4, 5]\n",
    "list_4 = [6, 7, 8, 9, 10]\n",
    "\n",
    "list_5 = list_3 + list_4\n",
    "print(list_5)"
   ]
  },
  {
   "cell_type": "code",
   "execution_count": 13,
   "id": "b0d00584",
   "metadata": {},
   "outputs": [
    {
     "name": "stdout",
     "output_type": "stream",
     "text": [
      "(2, 3, 4, 5)\n"
     ]
    },
    {
     "data": {
      "text/plain": [
       "tuple"
      ]
     },
     "execution_count": 13,
     "metadata": {},
     "output_type": "execute_result"
    }
   ],
   "source": [
    "tuple_1 = (2, 3, 4, 5)\n",
    "print(tuple_1)\n",
    "type(tuple_1)\n"
   ]
  },
  {
   "cell_type": "code",
   "execution_count": 14,
   "id": "a13b60e6",
   "metadata": {},
   "outputs": [
    {
     "name": "stdout",
     "output_type": "stream",
     "text": [
      "(1, 2, 3, 5, 'Machine Learning', False)\n"
     ]
    }
   ],
   "source": [
    "# tuple allow multiple data types\n",
    "tuple_2 = (1, 2, 3, 5, 'Machine Learning', False)\n",
    "print(tuple_2)"
   ]
  },
  {
   "cell_type": "code",
   "execution_count": 15,
   "id": "1c3fe61f",
   "metadata": {},
   "outputs": [
    {
     "name": "stdout",
     "output_type": "stream",
     "text": [
      "[3, 4, 5, 6]\n",
      "(3, 4, 5, 6)\n"
     ]
    }
   ],
   "source": [
    "# converting a list to a tuple\n",
    "\n",
    "my_list = [3, 4, 5, 6]\n",
    "print(my_list)\n",
    "\n",
    "my_tuple = tuple(my_list)\n",
    "print(my_tuple)"
   ]
  },
  {
   "cell_type": "code",
   "execution_count": 16,
   "id": "d6686206",
   "metadata": {},
   "outputs": [
    {
     "name": "stdout",
     "output_type": "stream",
     "text": [
      "3\n",
      "4\n"
     ]
    }
   ],
   "source": [
    "print(my_tuple[0])\n",
    "print(my_tuple[1])"
   ]
  },
  {
   "cell_type": "markdown",
   "id": "82426338",
   "metadata": {},
   "source": [
    "Tuples are immutable -> Unchangable\n"
   ]
  },
  {
   "cell_type": "code",
   "execution_count": 17,
   "id": "5d208cfd",
   "metadata": {},
   "outputs": [
    {
     "ename": "AttributeError",
     "evalue": "'tuple' object has no attribute 'append'",
     "output_type": "error",
     "traceback": [
      "\u001b[1;31m---------------------------------------------------------------------------\u001b[0m",
      "\u001b[1;31mAttributeError\u001b[0m                            Traceback (most recent call last)",
      "Input \u001b[1;32mIn [17]\u001b[0m, in \u001b[0;36m<cell line: 1>\u001b[1;34m()\u001b[0m\n\u001b[1;32m----> 1\u001b[0m \u001b[43mmy_tuple\u001b[49m\u001b[38;5;241;43m.\u001b[39;49m\u001b[43mappend\u001b[49m(\u001b[38;5;241m6\u001b[39m)\n",
      "\u001b[1;31mAttributeError\u001b[0m: 'tuple' object has no attribute 'append'"
     ]
    }
   ],
   "source": [
    "my_tuple.append(6)"
   ]
  },
  {
   "cell_type": "code",
   "execution_count": 18,
   "id": "cc30168a",
   "metadata": {},
   "outputs": [
    {
     "name": "stdout",
     "output_type": "stream",
     "text": [
      "4\n"
     ]
    }
   ],
   "source": [
    "print(len(my_tuple))"
   ]
  },
  {
   "cell_type": "markdown",
   "id": "0d716069",
   "metadata": {},
   "source": [
    "Set"
   ]
  },
  {
   "cell_type": "code",
   "execution_count": 19,
   "id": "ce589baf",
   "metadata": {},
   "outputs": [
    {
     "name": "stdout",
     "output_type": "stream",
     "text": [
      "{1, 2, 3, 4, 5}\n"
     ]
    },
    {
     "data": {
      "text/plain": [
       "set"
      ]
     },
     "execution_count": 19,
     "metadata": {},
     "output_type": "execute_result"
    }
   ],
   "source": [
    "# set --> Curly brackets\n",
    "my_set = {1, 2, 3, 4, 5}\n",
    "print(my_set)\n",
    "type(my_set)"
   ]
  },
  {
   "cell_type": "code",
   "execution_count": 20,
   "id": "4d95d198",
   "metadata": {},
   "outputs": [
    {
     "ename": "TypeError",
     "evalue": "'set' object is not subscriptable",
     "output_type": "error",
     "traceback": [
      "\u001b[1;31m---------------------------------------------------------------------------\u001b[0m",
      "\u001b[1;31mTypeError\u001b[0m                                 Traceback (most recent call last)",
      "Input \u001b[1;32mIn [20]\u001b[0m, in \u001b[0;36m<cell line: 1>\u001b[1;34m()\u001b[0m\n\u001b[1;32m----> 1\u001b[0m \u001b[38;5;28mprint\u001b[39m(\u001b[43mmy_set\u001b[49m\u001b[43m[\u001b[49m\u001b[38;5;241;43m0\u001b[39;49m\u001b[43m]\u001b[49m)\n",
      "\u001b[1;31mTypeError\u001b[0m: 'set' object is not subscriptable"
     ]
    }
   ],
   "source": [
    "print(my_set[0])"
   ]
  },
  {
   "cell_type": "code",
   "execution_count": 21,
   "id": "52f52416",
   "metadata": {},
   "outputs": [
    {
     "name": "stdout",
     "output_type": "stream",
     "text": [
      "{4, 5, 6, 7, 8}\n"
     ]
    }
   ],
   "source": [
    "# convert a list to a set\n",
    "list_5 = [4, 5, 6, 7, 8]\n",
    "\n",
    "x = set(list_5)\n",
    "print(x)"
   ]
  },
  {
   "cell_type": "code",
   "execution_count": 22,
   "id": "cb9d3507",
   "metadata": {},
   "outputs": [
    {
     "name": "stdout",
     "output_type": "stream",
     "text": [
      "{1, 2, 3, 4, 5}\n"
     ]
    }
   ],
   "source": [
    "# set does not allow duplicate values\n",
    "set_3 = {1, 2, 3, 4, 5, 1, 2, 3}\n",
    "print(set_3)"
   ]
  },
  {
   "cell_type": "markdown",
   "id": "9e0f0894",
   "metadata": {},
   "source": [
    "Dictionary"
   ]
  },
  {
   "cell_type": "markdown",
   "id": "6e24baac",
   "metadata": {},
   "source": [
    "Key-Value Pair"
   ]
  },
  {
   "cell_type": "code",
   "execution_count": 24,
   "id": "7c7f5fef",
   "metadata": {},
   "outputs": [
    {
     "name": "stdout",
     "output_type": "stream",
     "text": [
      "{'name': 'David', 'age': 30, 'country': 'India'}\n"
     ]
    },
    {
     "data": {
      "text/plain": [
       "dict"
      ]
     },
     "execution_count": 24,
     "metadata": {},
     "output_type": "execute_result"
    }
   ],
   "source": [
    "my_dictionary = {'name':'David', 'age':30, 'country':'India'}\n",
    "print(my_dictionary)\n",
    "type(my_dictionary)"
   ]
  },
  {
   "cell_type": "code",
   "execution_count": 25,
   "id": "ec8e8abf",
   "metadata": {},
   "outputs": [
    {
     "name": "stdout",
     "output_type": "stream",
     "text": [
      "David\n",
      "30\n",
      "India\n"
     ]
    }
   ],
   "source": [
    "print(my_dictionary['name'])\n",
    "print(my_dictionary['age'])\n",
    "print(my_dictionary['country'])"
   ]
  },
  {
   "cell_type": "code",
   "execution_count": 26,
   "id": "9a810832",
   "metadata": {},
   "outputs": [
    {
     "name": "stdout",
     "output_type": "stream",
     "text": [
      "{'name': 'David', 'age': 30, 'country': 'India'}\n"
     ]
    }
   ],
   "source": [
    "# dictionary does not allow duplicate values\n",
    "dictionary_2 = {'name':'David', 'age':30, 'country':'India', 'name':'David', 'age':30, 'country':'India'}\n",
    "print(dictionary_2)"
   ]
  },
  {
   "cell_type": "code",
   "execution_count": null,
   "id": "572379cd",
   "metadata": {},
   "outputs": [],
   "source": []
  }
 ],
 "metadata": {
  "kernelspec": {
   "display_name": "Python 3 (ipykernel)",
   "language": "python",
   "name": "python3"
  },
  "language_info": {
   "codemirror_mode": {
    "name": "ipython",
    "version": 3
   },
   "file_extension": ".py",
   "mimetype": "text/x-python",
   "name": "python",
   "nbconvert_exporter": "python",
   "pygments_lexer": "ipython3",
   "version": "3.9.12"
  }
 },
 "nbformat": 4,
 "nbformat_minor": 5
}
