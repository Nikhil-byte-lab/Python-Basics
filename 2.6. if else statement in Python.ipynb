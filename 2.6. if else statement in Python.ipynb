{
 "cells": [
  {
   "cell_type": "markdown",
   "id": "652e0169",
   "metadata": {},
   "source": [
    "simple if else statement\n"
   ]
  },
  {
   "cell_type": "code",
   "execution_count": 1,
   "id": "52d0f141",
   "metadata": {},
   "outputs": [
    {
     "name": "stdout",
     "output_type": "stream",
     "text": [
      "b is the greatest number\n"
     ]
    }
   ],
   "source": [
    "a = 30\n",
    "b = 50\n",
    "\n",
    "if (a>b):\n",
    "    print('a is the greatest number')\n",
    "else:\n",
    "    print('b is the greatest number')"
   ]
  },
  {
   "cell_type": "code",
   "execution_count": 3,
   "id": "f6ed8788",
   "metadata": {},
   "outputs": [
    {
     "name": "stdout",
     "output_type": "stream",
     "text": [
      "Enter the first number: 16\n",
      "Enter the second number: 20\n",
      "Second number is the greatest\n"
     ]
    }
   ],
   "source": [
    "a = int(input('Enter the first number: '))\n",
    "b = int(input('Enter the second number: '))\n",
    "\n",
    "if (a>b):\n",
    "    print('First number is the greatest')\n",
    "else:\n",
    "    print('Second number is the greatest')"
   ]
  },
  {
   "cell_type": "markdown",
   "id": "20e8bb70",
   "metadata": {},
   "source": [
    "if elif else statement"
   ]
  },
  {
   "cell_type": "code",
   "execution_count": 6,
   "id": "e19fae7e",
   "metadata": {},
   "outputs": [
    {
     "name": "stdout",
     "output_type": "stream",
     "text": [
      "c is the greatest number\n"
     ]
    }
   ],
   "source": [
    "a = 15\n",
    "b = 25\n",
    "c = 30\n",
    "\n",
    "if (b<a>c):\n",
    "    print('a is the greatest number')\n",
    "elif (a<b>c):\n",
    "    print('b is the greatest number')\n",
    "else:\n",
    "    print('c is the greatest number')"
   ]
  },
  {
   "cell_type": "markdown",
   "id": "b9c135a0",
   "metadata": {},
   "source": [
    "nested if statement"
   ]
  },
  {
   "cell_type": "code",
   "execution_count": 7,
   "id": "2a59cc95",
   "metadata": {},
   "outputs": [
    {
     "name": "stdout",
     "output_type": "stream",
     "text": [
      "c is the greatest number\n"
     ]
    }
   ],
   "source": [
    "a = 20\n",
    "b = 40\n",
    "c = 60\n",
    "\n",
    "if (a>b):\n",
    "    if (a>c):\n",
    "        print('a is the greatest number')\n",
    "    else:\n",
    "        print('c is the greatest number')\n",
    "else:\n",
    "    if (b>c):\n",
    "        print('b is the greatest number')\n",
    "    else: \n",
    "        print('c is the greatest number')"
   ]
  },
  {
   "cell_type": "code",
   "execution_count": null,
   "id": "84c81451",
   "metadata": {},
   "outputs": [],
   "source": []
  }
 ],
 "metadata": {
  "kernelspec": {
   "display_name": "Python 3 (ipykernel)",
   "language": "python",
   "name": "python3"
  },
  "language_info": {
   "codemirror_mode": {
    "name": "ipython",
    "version": 3
   },
   "file_extension": ".py",
   "mimetype": "text/x-python",
   "name": "python",
   "nbconvert_exporter": "python",
   "pygments_lexer": "ipython3",
   "version": "3.9.12"
  }
 },
 "nbformat": 4,
 "nbformat_minor": 5
}
