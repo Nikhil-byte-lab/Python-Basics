{
 "cells": [
  {
   "cell_type": "markdown",
   "id": "e98249d9",
   "metadata": {},
   "source": [
    "For loop"
   ]
  },
  {
   "cell_type": "code",
   "execution_count": 1,
   "id": "0628541e",
   "metadata": {},
   "outputs": [
    {
     "name": "stdout",
     "output_type": "stream",
     "text": [
      "Enter the price of the laptop : 20000\n",
      "Enter the price of the laptop : 30000\n",
      "Enter the price of the laptop : 40000\n",
      "Enter the price of the laptop : 50000\n",
      "Enter the price of the laptop : 60000\n"
     ]
    }
   ],
   "source": [
    "laptop1 = int(input('Enter the price of the laptop : '))\n",
    "laptop2 = int(input('Enter the price of the laptop : '))\n",
    "laptop3 = int(input('Enter the price of the laptop : '))\n",
    "laptop4 = int(input('Enter the price of the laptop : '))\n",
    "laptop5 = int(input('Enter the price of the laptop : '))"
   ]
  },
  {
   "cell_type": "code",
   "execution_count": 4,
   "id": "a284ebae",
   "metadata": {},
   "outputs": [
    {
     "name": "stdout",
     "output_type": "stream",
     "text": [
      "Enter the price of the laptop : 20000\n",
      "Enter the price of the laptop : 30000\n",
      "Enter the price of the laptop : 40000\n",
      "Enter the price of the laptop : 50000\n",
      "Enter the price of the laptop : 60000\n"
     ]
    }
   ],
   "source": [
    "for i in range(5): # 0, 1, 2, 3, 4\n",
    "    laptop_price = input('Enter the price of the laptop : ')"
   ]
  },
  {
   "cell_type": "code",
   "execution_count": 5,
   "id": "910ceee4",
   "metadata": {},
   "outputs": [
    {
     "name": "stdout",
     "output_type": "stream",
     "text": [
      "50\n",
      "100\n",
      "150\n",
      "200\n"
     ]
    }
   ],
   "source": [
    "numbers = [50 , 100, 150, 200]\n",
    "\n",
    "print(numbers[0])\n",
    "print(numbers[1])\n",
    "print(numbers[2])\n",
    "print(numbers[3])"
   ]
  },
  {
   "cell_type": "code",
   "execution_count": 6,
   "id": "534d381a",
   "metadata": {},
   "outputs": [
    {
     "name": "stdout",
     "output_type": "stream",
     "text": [
      "50\n",
      "100\n",
      "150\n",
      "200\n"
     ]
    }
   ],
   "source": [
    "numbers = [50 , 100, 150, 200]\n",
    "\n",
    "for i in numbers:\n",
    "    print(i)"
   ]
  },
  {
   "cell_type": "markdown",
   "id": "d26f24ac",
   "metadata": {},
   "source": [
    "While loop"
   ]
  },
  {
   "cell_type": "markdown",
   "id": "5d35ccb9",
   "metadata": {},
   "source": [
    "while condition:"
   ]
  },
  {
   "cell_type": "raw",
   "id": "060d289b",
   "metadata": {},
   "source": [
    "statement"
   ]
  },
  {
   "cell_type": "code",
   "execution_count": 8,
   "id": "f17af7c5",
   "metadata": {},
   "outputs": [
    {
     "name": "stdout",
     "output_type": "stream",
     "text": [
      "0\n",
      "1\n",
      "2\n",
      "3\n",
      "4\n",
      "5\n",
      "6\n",
      "7\n",
      "8\n",
      "9\n"
     ]
    }
   ],
   "source": [
    "i = 0\n",
    "\n",
    "while i<10:\n",
    "    print(i)\n",
    "    i += 1"
   ]
  },
  {
   "cell_type": "code",
   "execution_count": 10,
   "id": "272f3e24",
   "metadata": {},
   "outputs": [],
   "source": [
    "i = 5\n",
    "\n",
    "while i<3:\n",
    "    print(i)\n",
    "    i += 1"
   ]
  },
  {
   "cell_type": "code",
   "execution_count": null,
   "id": "70d6204b",
   "metadata": {},
   "outputs": [],
   "source": []
  }
 ],
 "metadata": {
  "kernelspec": {
   "display_name": "Python 3 (ipykernel)",
   "language": "python",
   "name": "python3"
  },
  "language_info": {
   "codemirror_mode": {
    "name": "ipython",
    "version": 3
   },
   "file_extension": ".py",
   "mimetype": "text/x-python",
   "name": "python",
   "nbconvert_exporter": "python",
   "pygments_lexer": "ipython3",
   "version": "3.9.12"
  }
 },
 "nbformat": 4,
 "nbformat_minor": 5
}
