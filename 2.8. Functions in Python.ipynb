{
 "cells": [
  {
   "cell_type": "markdown",
   "id": "793460d2",
   "metadata": {},
   "source": [
    "Functions:\n",
    "\n",
    "Function is a block of code that can be reused in a Program"
   ]
  },
  {
   "cell_type": "markdown",
   "id": "b1b92810",
   "metadata": {},
   "source": [
    "Factorial of a Number"
   ]
  },
  {
   "cell_type": "markdown",
   "id": "e6d34469",
   "metadata": {},
   "source": [
    "Factorial of a number is the product of all the positive integers less than or equal to the given  number"
   ]
  },
  {
   "cell_type": "markdown",
   "id": "2284f150",
   "metadata": {},
   "source": [
    "Factorial of 5 = 5 x 4 x 3 x 2 x 1 = 120"
   ]
  },
  {
   "cell_type": "code",
   "execution_count": 2,
   "id": "d6dac7f4",
   "metadata": {},
   "outputs": [
    {
     "name": "stdout",
     "output_type": "stream",
     "text": [
      "Enter a number to find its factorial: 10\n",
      "The factorial of  10 is 3628800\n"
     ]
    }
   ],
   "source": [
    "number = int(input('Enter a number to find its factorial: '))\n",
    "\n",
    "factorial = 1\n",
    "\n",
    "if number == 0:\n",
    "    print('The Factorial of 0 is 1')\n",
    "\n",
    "else:\n",
    "    for i in range(1, number+1): # range(1, 6) ------> 1,2,3,4,5\n",
    "        factorial = factorial*i \n",
    "    print('The factorial of ', number, 'is',factorial)"
   ]
  },
  {
   "cell_type": "markdown",
   "id": "18d933f9",
   "metadata": {},
   "source": [
    "Factorial Function"
   ]
  },
  {
   "cell_type": "code",
   "execution_count": 7,
   "id": "c3834aed",
   "metadata": {},
   "outputs": [],
   "source": [
    "def factorial_value(num):\n",
    "    \n",
    "    factorial = 1\n",
    "    \n",
    "    if num == 0:\n",
    "        return factorial\n",
    "    \n",
    "    else:\n",
    "        for i in range(1, num+1):\n",
    "            factorial = factorial*i\n",
    "        return factorial"
   ]
  },
  {
   "cell_type": "code",
   "execution_count": 8,
   "id": "5c926847",
   "metadata": {},
   "outputs": [
    {
     "name": "stdout",
     "output_type": "stream",
     "text": [
      "120\n"
     ]
    }
   ],
   "source": [
    "print(factorial_value(5))"
   ]
  },
  {
   "cell_type": "code",
   "execution_count": 9,
   "id": "84966854",
   "metadata": {},
   "outputs": [
    {
     "name": "stdout",
     "output_type": "stream",
     "text": [
      "3628800\n"
     ]
    }
   ],
   "source": [
    "print(factorial_value(10))"
   ]
  },
  {
   "cell_type": "code",
   "execution_count": null,
   "id": "a1e982ac",
   "metadata": {},
   "outputs": [],
   "source": []
  }
 ],
 "metadata": {
  "kernelspec": {
   "display_name": "Python 3 (ipykernel)",
   "language": "python",
   "name": "python3"
  },
  "language_info": {
   "codemirror_mode": {
    "name": "ipython",
    "version": 3
   },
   "file_extension": ".py",
   "mimetype": "text/x-python",
   "name": "python",
   "nbconvert_exporter": "python",
   "pygments_lexer": "ipython3",
   "version": "3.9.12"
  }
 },
 "nbformat": 4,
 "nbformat_minor": 5
}
