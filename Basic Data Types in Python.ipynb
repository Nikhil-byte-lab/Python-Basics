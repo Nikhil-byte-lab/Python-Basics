{
 "cells": [
  {
   "cell_type": "markdown",
   "id": "37e7e187",
   "metadata": {},
   "source": [
    "Basic Data Type in Python\n",
    "    1. Integer\n",
    "    2. Floating Point\n",
    "    3. Complex\n",
    "    4. Boolean\n",
    "    5. String"
   ]
  },
  {
   "cell_type": "code",
   "execution_count": 1,
   "id": "b46c7dc0",
   "metadata": {},
   "outputs": [
    {
     "name": "stdout",
     "output_type": "stream",
     "text": [
      "8\n"
     ]
    }
   ],
   "source": [
    "# integers\n",
    "a = 8\n",
    "print(a)"
   ]
  },
  {
   "cell_type": "code",
   "execution_count": 2,
   "id": "1a868967",
   "metadata": {},
   "outputs": [
    {
     "data": {
      "text/plain": [
       "int"
      ]
     },
     "execution_count": 2,
     "metadata": {},
     "output_type": "execute_result"
    }
   ],
   "source": [
    "type(a)"
   ]
  },
  {
   "cell_type": "code",
   "execution_count": 3,
   "id": "2d978950",
   "metadata": {},
   "outputs": [
    {
     "name": "stdout",
     "output_type": "stream",
     "text": [
      "2.3\n"
     ]
    },
    {
     "data": {
      "text/plain": [
       "float"
      ]
     },
     "execution_count": 3,
     "metadata": {},
     "output_type": "execute_result"
    }
   ],
   "source": [
    "# floating point\n",
    "b = 2.3\n",
    "print(b)\n",
    "type(b)"
   ]
  },
  {
   "cell_type": "code",
   "execution_count": 4,
   "id": "c5ec0847",
   "metadata": {},
   "outputs": [
    {
     "name": "stdout",
     "output_type": "stream",
     "text": [
      "(1+3j)\n"
     ]
    },
    {
     "data": {
      "text/plain": [
       "complex"
      ]
     },
     "execution_count": 4,
     "metadata": {},
     "output_type": "execute_result"
    }
   ],
   "source": [
    "# Complex numbers\n",
    "c = 1 + 3j\n",
    "print(c)\n",
    "type(c)"
   ]
  },
  {
   "cell_type": "markdown",
   "id": "a29627c9",
   "metadata": {},
   "source": [
    "Conversion of one data type to another\n"
   ]
  },
  {
   "cell_type": "code",
   "execution_count": 6,
   "id": "1f13b697",
   "metadata": {},
   "outputs": [
    {
     "name": "stdout",
     "output_type": "stream",
     "text": [
      "10\n"
     ]
    },
    {
     "data": {
      "text/plain": [
       "int"
      ]
     },
     "execution_count": 6,
     "metadata": {},
     "output_type": "execute_result"
    }
   ],
   "source": [
    "# int into float\n",
    "x = 10\n",
    "print(x)\n",
    "type(x)"
   ]
  },
  {
   "cell_type": "code",
   "execution_count": 7,
   "id": "a55d441c",
   "metadata": {},
   "outputs": [
    {
     "name": "stdout",
     "output_type": "stream",
     "text": [
      "10.0\n"
     ]
    },
    {
     "data": {
      "text/plain": [
       "float"
      ]
     },
     "execution_count": 7,
     "metadata": {},
     "output_type": "execute_result"
    }
   ],
   "source": [
    "y = float(x)\n",
    "print(y)\n",
    "type(y)"
   ]
  },
  {
   "cell_type": "code",
   "execution_count": 8,
   "id": "0921826e",
   "metadata": {},
   "outputs": [
    {
     "name": "stdout",
     "output_type": "stream",
     "text": [
      "5.88\n"
     ]
    },
    {
     "data": {
      "text/plain": [
       "float"
      ]
     },
     "execution_count": 8,
     "metadata": {},
     "output_type": "execute_result"
    }
   ],
   "source": [
    "# float into int\n",
    "x = 5.88\n",
    "print(x)\n",
    "type(x)"
   ]
  },
  {
   "cell_type": "code",
   "execution_count": 9,
   "id": "1c5849c5",
   "metadata": {},
   "outputs": [
    {
     "name": "stdout",
     "output_type": "stream",
     "text": [
      "5\n"
     ]
    },
    {
     "data": {
      "text/plain": [
       "int"
      ]
     },
     "execution_count": 9,
     "metadata": {},
     "output_type": "execute_result"
    }
   ],
   "source": [
    "y = int(x)\n",
    "print(y)\n",
    "type(y)"
   ]
  },
  {
   "cell_type": "markdown",
   "id": "21da9f45",
   "metadata": {},
   "source": [
    "Boolean\n",
    "    1. True\n",
    "    2. False\n",
    "    "
   ]
  },
  {
   "cell_type": "code",
   "execution_count": 10,
   "id": "23415bfb",
   "metadata": {},
   "outputs": [
    {
     "name": "stdout",
     "output_type": "stream",
     "text": [
      "True\n"
     ]
    },
    {
     "data": {
      "text/plain": [
       "bool"
      ]
     },
     "execution_count": 10,
     "metadata": {},
     "output_type": "execute_result"
    }
   ],
   "source": [
    "a = True\n",
    "print(a)\n",
    "type(a)"
   ]
  },
  {
   "cell_type": "code",
   "execution_count": 12,
   "id": "92fed150",
   "metadata": {},
   "outputs": [
    {
     "name": "stdout",
     "output_type": "stream",
     "text": [
      "False\n"
     ]
    },
    {
     "data": {
      "text/plain": [
       "bool"
      ]
     },
     "execution_count": 12,
     "metadata": {},
     "output_type": "execute_result"
    }
   ],
   "source": [
    "b = False\n",
    "print(b)\n",
    "type(b)"
   ]
  },
  {
   "cell_type": "code",
   "execution_count": 13,
   "id": "2a7da294",
   "metadata": {},
   "outputs": [
    {
     "name": "stdout",
     "output_type": "stream",
     "text": [
      "False\n"
     ]
    },
    {
     "data": {
      "text/plain": [
       "bool"
      ]
     },
     "execution_count": 13,
     "metadata": {},
     "output_type": "execute_result"
    }
   ],
   "source": [
    "a = 7 < 3\n",
    "print(a)\n",
    "type(a)"
   ]
  },
  {
   "cell_type": "code",
   "execution_count": 14,
   "id": "c70d656f",
   "metadata": {},
   "outputs": [
    {
     "name": "stdout",
     "output_type": "stream",
     "text": [
      "True\n"
     ]
    },
    {
     "data": {
      "text/plain": [
       "bool"
      ]
     },
     "execution_count": 14,
     "metadata": {},
     "output_type": "execute_result"
    }
   ],
   "source": [
    "a = 7 > 3\n",
    "print(a)\n",
    "type(a)"
   ]
  },
  {
   "cell_type": "markdown",
   "id": "802a13a7",
   "metadata": {},
   "source": [
    "String"
   ]
  },
  {
   "cell_type": "code",
   "execution_count": 15,
   "id": "4d272996",
   "metadata": {},
   "outputs": [
    {
     "name": "stdout",
     "output_type": "stream",
     "text": [
      "Machine Learning\n"
     ]
    }
   ],
   "source": [
    "print('Machine Learning')"
   ]
  },
  {
   "cell_type": "code",
   "execution_count": 16,
   "id": "9b0d93e0",
   "metadata": {},
   "outputs": [
    {
     "name": "stdout",
     "output_type": "stream",
     "text": [
      "Machine Learning\n"
     ]
    }
   ],
   "source": [
    "print(\"Machine Learning\")"
   ]
  },
  {
   "cell_type": "code",
   "execution_count": 17,
   "id": "6ff122be",
   "metadata": {},
   "outputs": [
    {
     "name": "stdout",
     "output_type": "stream",
     "text": [
      "Machine Learning\n"
     ]
    },
    {
     "data": {
      "text/plain": [
       "str"
      ]
     },
     "execution_count": 17,
     "metadata": {},
     "output_type": "execute_result"
    }
   ],
   "source": [
    "my_string = \"Machine Learning\"\n",
    "print(my_string)\n",
    "type(my_string)"
   ]
  },
  {
   "cell_type": "code",
   "execution_count": 18,
   "id": "f06468a9",
   "metadata": {},
   "outputs": [
    {
     "name": "stdout",
     "output_type": "stream",
     "text": [
      "HelloHelloHelloHelloHello\n"
     ]
    }
   ],
   "source": [
    "print('Hello'*5)"
   ]
  },
  {
   "cell_type": "markdown",
   "id": "c27fd04c",
   "metadata": {},
   "source": [
    "Slicing\n"
   ]
  },
  {
   "cell_type": "code",
   "execution_count": 19,
   "id": "591bf1c6",
   "metadata": {},
   "outputs": [],
   "source": [
    "my_string = 'Programming'"
   ]
  },
  {
   "cell_type": "code",
   "execution_count": 21,
   "id": "6503289e",
   "metadata": {},
   "outputs": [
    {
     "name": "stdout",
     "output_type": "stream",
     "text": [
      "rogr\n"
     ]
    }
   ],
   "source": [
    "print(my_string[1:5]) # values from index 1 to 5 - 1 will be sliced"
   ]
  },
  {
   "cell_type": "code",
   "execution_count": 22,
   "id": "6538751e",
   "metadata": {},
   "outputs": [
    {
     "name": "stdout",
     "output_type": "stream",
     "text": [
      "Pormi\n"
     ]
    }
   ],
   "source": [
    "# step\n",
    "print(my_string[0:10:2])"
   ]
  },
  {
   "cell_type": "markdown",
   "id": "a8f1ef13",
   "metadata": {},
   "source": [
    "String Concatenation"
   ]
  },
  {
   "cell_type": "code",
   "execution_count": 23,
   "id": "1b4be5dd",
   "metadata": {},
   "outputs": [
    {
     "name": "stdout",
     "output_type": "stream",
     "text": [
      "Machine Learning\n"
     ]
    }
   ],
   "source": [
    "word_1 = 'Machine'\n",
    "word_2 = ' Learning'\n",
    "\n",
    "print(word_1+word_2)"
   ]
  },
  {
   "cell_type": "code",
   "execution_count": 2,
   "id": "339c6117",
   "metadata": {},
   "outputs": [
    {
     "ename": "ModuleNotFoundError",
     "evalue": "No module named 'selenium'",
     "output_type": "error",
     "traceback": [
      "\u001b[1;31m---------------------------------------------------------------------------\u001b[0m",
      "\u001b[1;31mModuleNotFoundError\u001b[0m                       Traceback (most recent call last)",
      "Input \u001b[1;32mIn [2]\u001b[0m, in \u001b[0;36m<cell line: 3>\u001b[1;34m()\u001b[0m\n\u001b[0;32m      1\u001b[0m \u001b[38;5;28;01mimport\u001b[39;00m \u001b[38;5;21;01mtime\u001b[39;00m\n\u001b[0;32m      2\u001b[0m \u001b[38;5;28;01mimport\u001b[39;00m \u001b[38;5;21;01mrandom\u001b[39;00m\n\u001b[1;32m----> 3\u001b[0m \u001b[38;5;28;01mimport\u001b[39;00m \u001b[38;5;21;01mselenium\u001b[39;00m\n\u001b[0;32m      4\u001b[0m \u001b[38;5;28;01mfrom\u001b[39;00m \u001b[38;5;21;01mselenium\u001b[39;00m \u001b[38;5;28;01mimport\u001b[39;00m webdriver\n\u001b[0;32m      5\u001b[0m \u001b[38;5;28;01mfrom\u001b[39;00m \u001b[38;5;21;01mselenium\u001b[39;00m\u001b[38;5;21;01m.\u001b[39;00m\u001b[38;5;21;01mwebdriver\u001b[39;00m\u001b[38;5;21;01m.\u001b[39;00m\u001b[38;5;21;01medge\u001b[39;00m\u001b[38;5;21;01m.\u001b[39;00m\u001b[38;5;21;01moptions\u001b[39;00m \u001b[38;5;28;01mimport\u001b[39;00m Options  \u001b[38;5;66;03m# Import EdgeOptions\u001b[39;00m\n",
      "\u001b[1;31mModuleNotFoundError\u001b[0m: No module named 'selenium'"
     ]
    }
   ],
   "source": [
    "\n",
    "import time\n",
    "import random\n",
    "import selenium\n",
    "from selenium import webdriver\n",
    "from selenium.webdriver.edge.options import Options  # Import EdgeOptions\n",
    "\n",
    "\n",
    "# Path to your Microsoft Edge WebDriver executable\n",
    "edge_driver_path = r'E:\\Udemy\\msedgedriver.exe'\n",
    "\n",
    "# Create EdgeOptions instance\n",
    "edge_options = Options()\n",
    "edge_options.binary_location = edge_driver_path\n",
    "\n",
    "# Create a new Edge browser session with EdgeOptions\n",
    "driver = webdriver.Edge(options=edge_options)\n",
    "\n",
    "# List of search queries\n",
    "search_queries = [\"query1\", \"query2\", \"query3\", \"google\",\n",
    "                  \"microsoft\", \"geeksforgeeks\", \"blogger\", \"ABC\",\n",
    "                  \"Machine Learning\", \"Data Science\", \"Cyber\", \"Cypher\",\n",
    "                  \"Raichu\", \"royal\", \"Apple\", \"Ball\",\n",
    "                  \"Cat\", \"vs DOg\", \"Raja\", \"instagram\", \n",
    "                  \"Telegram\", \"new trends\", \"psychology\", \"smurf\",\n",
    "                  \"valorant\", \"analysis\", \"deep learning\", \"human\",\n",
    "                  \"ai\", \"DL\", \"ML\", \"Spider\",\n",
    "                  \"hii\", \"gamma\", \"Dr\", \"Strange\",\n",
    "                  \"love\", \"aniwh\", \"masked\", \"nuggets\"]  # Add your search queries here\n",
    "\n",
    "try:\n",
    "    for search_query in search_queries:\n",
    "        print(f\"Searching for: {search_query}\")\n",
    "        # Open Microsoft Edge and perform a search\n",
    "        driver.get(\"https://www.bing.com/\")\n",
    "        search_box = driver.find_element(\"name\", \"q\")\n",
    "        search_box.clear()\n",
    "        search_box.send_keys(search_query)\n",
    "        search_box.submit()\n",
    "\n",
    "        # Wait for 6 seconds before the next search\n",
    "        time.sleep(6)\n",
    "\n",
    "except KeyboardInterrupt:\n",
    "    # Close the browser when interrupted (e.g., by pressing Ctrl+C)\n",
    "    driver.quit()\n",
    "\n",
    "\n",
    "\n",
    "\n"
   ]
  },
  {
   "cell_type": "code",
   "execution_count": null,
   "id": "197e5750",
   "metadata": {},
   "outputs": [],
   "source": []
  }
 ],
 "metadata": {
  "kernelspec": {
   "display_name": "Python 3 (ipykernel)",
   "language": "python",
   "name": "python3"
  },
  "language_info": {
   "codemirror_mode": {
    "name": "ipython",
    "version": 3
   },
   "file_extension": ".py",
   "mimetype": "text/x-python",
   "name": "python",
   "nbconvert_exporter": "python",
   "pygments_lexer": "ipython3",
   "version": "3.9.12"
  }
 },
 "nbformat": 4,
 "nbformat_minor": 5
}
